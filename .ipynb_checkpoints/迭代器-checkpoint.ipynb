{
 "cells": [
  {
   "cell_type": "markdown",
   "metadata": {},
   "source": [
    "# 迭代器和解析\n",
    "\n",
    "## 第一部分\n",
    "\n",
    "Python中的迭代协议：有 \\__next__ 方法的对象会在前进到下一个结果，而在一系列结果的末尾是，则会引发StopIteration。在Python中，任何这类对象都可以是可迭代的。任何这类对象也能以for循环或其他迭代工具遍历，因为所有迭代工具内部工作起来都是在每次迭代中调用 \\__next__ ，并且捕捉StopIteration异常来确定何时离开。"
   ]
  },
  {
   "cell_type": "markdown",
   "metadata": {},
   "source": [
    "### 文件迭代器\n",
    "#### \\__next__方法"
   ]
  },
  {
   "cell_type": "code",
   "execution_count": 14,
   "metadata": {},
   "outputs": [
    {
     "name": "stdout",
     "output_type": "stream",
     "text": [
      "import sys\n",
      "print(sys.path)\n",
      "x = 2\n",
      "print(2 ** 33)"
     ]
    },
    {
     "ename": "StopIteration",
     "evalue": "",
     "output_type": "error",
     "traceback": [
      "\u001b[1;31m---------------------------------------------------------------------------\u001b[0m",
      "\u001b[1;31mStopIteration\u001b[0m                             Traceback (most recent call last)",
      "\u001b[1;32m<ipython-input-14-b73e7279bec3>\u001b[0m in \u001b[0;36m<module>\u001b[1;34m\u001b[0m\n\u001b[0;32m      4\u001b[0m \u001b[0mprint\u001b[0m\u001b[1;33m(\u001b[0m\u001b[0mf\u001b[0m\u001b[1;33m.\u001b[0m\u001b[0m__next__\u001b[0m\u001b[1;33m(\u001b[0m\u001b[1;33m)\u001b[0m\u001b[1;33m,\u001b[0m \u001b[0mend\u001b[0m\u001b[1;33m=\u001b[0m\u001b[1;34m\"\"\u001b[0m\u001b[1;33m)\u001b[0m\u001b[1;33m\u001b[0m\u001b[1;33m\u001b[0m\u001b[0m\n\u001b[0;32m      5\u001b[0m \u001b[0mprint\u001b[0m\u001b[1;33m(\u001b[0m\u001b[0mf\u001b[0m\u001b[1;33m.\u001b[0m\u001b[0m__next__\u001b[0m\u001b[1;33m(\u001b[0m\u001b[1;33m)\u001b[0m\u001b[1;33m,\u001b[0m \u001b[0mend\u001b[0m\u001b[1;33m=\u001b[0m\u001b[1;34m\"\"\u001b[0m\u001b[1;33m)\u001b[0m\u001b[1;33m\u001b[0m\u001b[1;33m\u001b[0m\u001b[0m\n\u001b[1;32m----> 6\u001b[1;33m \u001b[0mprint\u001b[0m\u001b[1;33m(\u001b[0m\u001b[0mf\u001b[0m\u001b[1;33m.\u001b[0m\u001b[0m__next__\u001b[0m\u001b[1;33m(\u001b[0m\u001b[1;33m)\u001b[0m\u001b[1;33m,\u001b[0m \u001b[0mend\u001b[0m\u001b[1;33m=\u001b[0m\u001b[1;34m\"\"\u001b[0m\u001b[1;33m)\u001b[0m\u001b[1;33m\u001b[0m\u001b[1;33m\u001b[0m\u001b[0m\n\u001b[0m\u001b[0;32m      7\u001b[0m \u001b[0mprint\u001b[0m\u001b[1;33m(\u001b[0m\u001b[0mf\u001b[0m\u001b[1;33m.\u001b[0m\u001b[0m__next__\u001b[0m\u001b[1;33m(\u001b[0m\u001b[1;33m)\u001b[0m\u001b[1;33m,\u001b[0m \u001b[0mend\u001b[0m\u001b[1;33m=\u001b[0m\u001b[1;34m\"\"\u001b[0m\u001b[1;33m)\u001b[0m\u001b[1;33m\u001b[0m\u001b[1;33m\u001b[0m\u001b[0m\n",
      "\u001b[1;31mStopIteration\u001b[0m: "
     ]
    }
   ],
   "source": [
    "f = open(\"script1.py\")\n",
    "print(f.__next__(), end=\"\")\n",
    "print(f.__next__(), end=\"\")\n",
    "print(f.__next__(), end=\"\")\n",
    "print(f.__next__(), end=\"\")\n",
    "print(f.__next__(), end=\"\")\n",
    "print(f.__next__(), end=\"\")"
   ]
  },
  {
   "cell_type": "markdown",
   "metadata": {},
   "source": [
    "#### for循环迭代版本"
   ]
  },
  {
   "cell_type": "code",
   "execution_count": 13,
   "metadata": {},
   "outputs": [
    {
     "name": "stdout",
     "output_type": "stream",
     "text": [
      "IMPORT SYS\n",
      "PRINT(SYS.PATH)\n",
      "X = 2\n",
      "PRINT(2 ** 33)"
     ]
    }
   ],
   "source": [
    "for line in open(\"script1.py\"):\n",
    "    print(line.upper(), end=\"\") # print使用end=“”来抑制添加一个\\n"
   ]
  },
  {
   "cell_type": "markdown",
   "metadata": {},
   "source": [
    "#### readlines()方法\n",
    "readlines()一次把整个文件加载到内存，如果文件太大，以至于计算机内存空间不够，甚至不能够工作"
   ]
  },
  {
   "cell_type": "code",
   "execution_count": 16,
   "metadata": {},
   "outputs": [
    {
     "name": "stdout",
     "output_type": "stream",
     "text": [
      "IMPORT SYS\n",
      "PRINT(SYS.PATH)\n",
      "X = 2\n",
      "PRINT(2 ** 33)"
     ]
    }
   ],
   "source": [
    "for line in open(\"script1.py\").readlines():\n",
    "    print(line.upper(), end=\"\")"
   ]
  },
  {
   "cell_type": "markdown",
   "metadata": {},
   "source": [
    "#### while循环版本\n",
    "迭代器在Python中是以C语言的速度运行的，而while循环版本则是通过Python虚拟机运行Python字节码。"
   ]
  },
  {
   "cell_type": "code",
   "execution_count": 20,
   "metadata": {},
   "outputs": [
    {
     "name": "stdout",
     "output_type": "stream",
     "text": [
      "IMPORT SYS\n",
      "PRINT(SYS.PATH)\n",
      "X = 2\n",
      "PRINT(2 ** 33)"
     ]
    }
   ],
   "source": [
    "f = open(\"script1.py\")\n",
    "while True:\n",
    "    line = f.readline()\n",
    "    if not line: break\n",
    "    print(line.upper(), end=\"\")"
   ]
  },
  {
   "cell_type": "markdown",
   "metadata": {},
   "source": [
    "### 手动迭代：iter和next\n",
    "1. next(X)等同于X.\\__next__()\n",
    "2. 文件对象本身就是迭代器，有自己的__next__方法\n",
    "3. 列表对象本身不是，需要调用iter来启动迭代"
   ]
  },
  {
   "cell_type": "code",
   "execution_count": 47,
   "metadata": {},
   "outputs": [
    {
     "name": "stdout",
     "output_type": "stream",
     "text": [
      "True\n"
     ]
    },
    {
     "data": {
      "text/plain": [
       "'import sys\\n'"
      ]
     },
     "execution_count": 47,
     "metadata": {},
     "output_type": "execute_result"
    }
   ],
   "source": [
    "f = open(\"script1.py\")\n",
    "print(iter(f) is f)\n",
    "f.__next__()"
   ]
  },
  {
   "cell_type": "code",
   "execution_count": 54,
   "metadata": {},
   "outputs": [
    {
     "name": "stdout",
     "output_type": "stream",
     "text": [
      "False\n"
     ]
    },
    {
     "ename": "TypeError",
     "evalue": "'list' object is not an iterator",
     "output_type": "error",
     "traceback": [
      "\u001b[1;31m---------------------------------------------------------------------------\u001b[0m",
      "\u001b[1;31mTypeError\u001b[0m                                 Traceback (most recent call last)",
      "\u001b[1;32m<ipython-input-54-561d65762f81>\u001b[0m in \u001b[0;36m<module>\u001b[1;34m\u001b[0m\n\u001b[0;32m      1\u001b[0m \u001b[0mL\u001b[0m \u001b[1;33m=\u001b[0m \u001b[1;33m[\u001b[0m\u001b[1;36m1\u001b[0m\u001b[1;33m,\u001b[0m \u001b[1;36m2\u001b[0m\u001b[1;33m,\u001b[0m \u001b[1;36m3\u001b[0m\u001b[1;33m]\u001b[0m\u001b[1;33m\u001b[0m\u001b[1;33m\u001b[0m\u001b[0m\n\u001b[0;32m      2\u001b[0m \u001b[0mprint\u001b[0m\u001b[1;33m(\u001b[0m\u001b[0miter\u001b[0m\u001b[1;33m(\u001b[0m\u001b[0mL\u001b[0m\u001b[1;33m)\u001b[0m \u001b[1;32mis\u001b[0m \u001b[0mL\u001b[0m\u001b[1;33m)\u001b[0m\u001b[1;33m\u001b[0m\u001b[1;33m\u001b[0m\u001b[0m\n\u001b[1;32m----> 3\u001b[1;33m \u001b[0mnext\u001b[0m\u001b[1;33m(\u001b[0m\u001b[0mL\u001b[0m\u001b[1;33m)\u001b[0m\u001b[1;33m\u001b[0m\u001b[1;33m\u001b[0m\u001b[0m\n\u001b[0m\u001b[0;32m      4\u001b[0m \u001b[0mL\u001b[0m\u001b[1;33m.\u001b[0m\u001b[0m__next__\u001b[0m\u001b[1;33m(\u001b[0m\u001b[1;33m)\u001b[0m\u001b[1;33m\u001b[0m\u001b[1;33m\u001b[0m\u001b[0m\n\u001b[0;32m      5\u001b[0m \u001b[1;33m\u001b[0m\u001b[0m\n",
      "\u001b[1;31mTypeError\u001b[0m: 'list' object is not an iterator"
     ]
    }
   ],
   "source": [
    "L = [1, 2, 3]\n",
    "print(iter(L) is L)\n",
    "L.__next__()"
   ]
  },
  {
   "cell_type": "code",
   "execution_count": 56,
   "metadata": {},
   "outputs": [
    {
     "name": "stdout",
     "output_type": "stream",
     "text": [
      "1\n",
      "2\n"
     ]
    }
   ],
   "source": [
    "L = [1, 2, 3]\n",
    "I = iter(L)\n",
    "print(I.__next__())\n",
    "print(next(I))\n",
    "# 技术上for循环调用内部等价于I.__next__"
   ]
  },
  {
   "cell_type": "code",
   "execution_count": 59,
   "metadata": {},
   "outputs": [
    {
     "name": "stdout",
     "output_type": "stream",
     "text": [
      "149\n",
      "149"
     ]
    }
   ],
   "source": [
    "L = [1, 2, 3]\n",
    "for x in L:\n",
    "    print(x ** 2, end=\"\")\n",
    "print(\"\\n\", end=\"\")\n",
    "I = iter(L)\n",
    "while True:\n",
    "    try:\n",
    "        X = next(I)\n",
    "    except StopIteration:\n",
    "        break\n",
    "    print(X ** 2, end=\"\")"
   ]
  },
  {
   "cell_type": "markdown",
   "metadata": {},
   "source": [
    "### 列表解析\n",
    "#### 列表解析基础知识\n",
    "1. 产生一个新的列表对象\n",
    "2. 编写起来更加精简\n",
    "3. 列表解析比手动的for循环语句运行更快（往往速度会快一倍），因为迭代在解释器内部是以C语言的速度执行的"
   ]
  },
  {
   "cell_type": "code",
   "execution_count": 26,
   "metadata": {},
   "outputs": [
    {
     "name": "stdout",
     "output_type": "stream",
     "text": [
      "[11, 12, 13, 14, 15]\n"
     ]
    }
   ],
   "source": [
    "L = [1, 2, 3, 4, 5]\n",
    "L = [x + 10 for x in L]\n",
    "print(L)"
   ]
  },
  {
   "cell_type": "code",
   "execution_count": 25,
   "metadata": {},
   "outputs": [
    {
     "name": "stdout",
     "output_type": "stream",
     "text": [
      "[11, 12, 13, 14, 15]\n"
     ]
    }
   ],
   "source": [
    "L = [1, 2, 3, 4, 5]\n",
    "res = []\n",
    "for x in L:\n",
    "    res.append(x + 10)\n",
    "print(res)"
   ]
  },
  {
   "cell_type": "markdown",
   "metadata": {},
   "source": [
    "#### 在文件上使用列表解析"
   ]
  },
  {
   "cell_type": "code",
   "execution_count": 28,
   "metadata": {},
   "outputs": [
    {
     "data": {
      "text/plain": [
       "['import sys\\n', 'print(sys.path)\\n', 'x = 2\\n', 'print(2 ** 33)']"
      ]
     },
     "execution_count": 28,
     "metadata": {},
     "output_type": "execute_result"
    }
   ],
   "source": [
    "f = open(\"script1.py\")\n",
    "lines = f.readlines()\n",
    "lines"
   ]
  },
  {
   "cell_type": "code",
   "execution_count": 29,
   "metadata": {},
   "outputs": [
    {
     "data": {
      "text/plain": [
       "['import sys', 'print(sys.path)', 'x = 2', 'print(2 ** 33)']"
      ]
     },
     "execution_count": 29,
     "metadata": {},
     "output_type": "execute_result"
    }
   ],
   "source": [
    "f = open(\"script1.py\")\n",
    "lines = [line.rstrip() for line in lines]\n",
    "lines"
   ]
  },
  {
   "cell_type": "code",
   "execution_count": 37,
   "metadata": {},
   "outputs": [
    {
     "name": "stdout",
     "output_type": "stream",
     "text": [
      "['import sys', 'print(sys.path)', 'x = 2', 'print(2 ** 33)']\n",
      "['IMPORT SYS\\n', 'PRINT(SYS.PATH)\\n', 'X = 2\\n', 'PRINT(2 ** 33)']\n",
      "['IMPORT SYS', 'PRINT(SYS.PATH)', 'X = 2', 'PRINT(2 ** 33)']\n",
      "[['import', 'sys'], ['print(sys.path)'], ['x', '=', '2'], ['print(2', '**', '33)']]\n",
      "['import!sys\\n', 'print(sys.path)\\n', 'x!=!2\\n', 'print(2!**!33)']\n"
     ]
    },
    {
     "data": {
      "text/plain": [
       "[(True, 'i'), (True, 'p'), (False, 'x'), (False, 'p')]"
      ]
     },
     "execution_count": 37,
     "metadata": {},
     "output_type": "execute_result"
    }
   ],
   "source": [
    "lines = [line.rstrip() for line in open(\"script1.py\")]\n",
    "print(lines)\n",
    "lines = [line.upper() for line in open(\"script1.py\")]\n",
    "print(lines)\n",
    "lines = [line.rstrip().upper() for line in open(\"script1.py\")]\n",
    "print(lines)\n",
    "lines = [line.split() for line in open(\"script1.py\")]\n",
    "print(lines)\n",
    "lines = [line.replace(\" \", \"!\") for line in open(\"script1.py\")]\n",
    "print(lines)\n",
    "[(\"sys\" in line, line[0]) for line in open(\"script1.py\")]"
   ]
  },
  {
   "cell_type": "code",
   "execution_count": null,
   "metadata": {},
   "outputs": [],
   "source": [
    "使用if子句过滤那些测试不为真的结果项"
   ]
  },
  {
   "cell_type": "code",
   "execution_count": 40,
   "metadata": {},
   "outputs": [
    {
     "name": "stdout",
     "output_type": "stream",
     "text": [
      "['print(sys.path)', 'print(2 ** 33)']\n",
      "['print(sys.path)', 'print(2 ** 33)']\n"
     ]
    }
   ],
   "source": [
    "lines = [line.rstrip() for line in open(\"script1.py\") if line[0] == \"p\"]\n",
    "print(lines)\n",
    "# 等效于\n",
    "res = []\n",
    "for line in open(\"script1.py\"):\n",
    "    if line[0] == \"p\":\n",
    "        res.append(line.rstrip())\n",
    "print(res)"
   ]
  },
  {
   "cell_type": "code",
   "execution_count": 43,
   "metadata": {},
   "outputs": [
    {
     "name": "stdout",
     "output_type": "stream",
     "text": [
      "['al', 'am', 'an', 'bl', 'bm', 'bn', 'cl', 'cm', 'cn']\n",
      "['al', 'am', 'an', 'bl', 'bm', 'bn', 'cl', 'cm', 'cn']\n"
     ]
    }
   ],
   "source": [
    "res = [x + y for x in \"abc\" for y in \"lmn\"]\n",
    "print(res)\n",
    "# 等效于\n",
    "res = []\n",
    "for x in \"abc\":\n",
    "    for y in \"lmn\":\n",
    "        res.append(x + y)\n",
    "print(res)"
   ]
  },
  {
   "cell_type": "code",
   "execution_count": null,
   "metadata": {},
   "outputs": [],
   "source": []
  }
 ],
 "metadata": {
  "kernelspec": {
   "display_name": "Python 3",
   "language": "python",
   "name": "python3"
  },
  "language_info": {
   "codemirror_mode": {
    "name": "ipython",
    "version": 3
   },
   "file_extension": ".py",
   "mimetype": "text/x-python",
   "name": "python",
   "nbconvert_exporter": "python",
   "pygments_lexer": "ipython3",
   "version": "3.7.4"
  }
 },
 "nbformat": 4,
 "nbformat_minor": 2
}
